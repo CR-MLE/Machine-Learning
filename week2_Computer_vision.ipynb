{
  "nbformat": 4,
  "nbformat_minor": 0,
  "metadata": {
    "colab": {
      "provenance": [],
      "authorship_tag": "ABX9TyNHmxidfJvI7XAEAKaQPPQT",
      "include_colab_link": true
    },
    "kernelspec": {
      "name": "python3",
      "display_name": "Python 3"
    },
    "language_info": {
      "name": "python"
    }
  },
  "cells": [
    {
      "cell_type": "markdown",
      "metadata": {
        "id": "view-in-github",
        "colab_type": "text"
      },
      "source": [
        "<a href=\"https://colab.research.google.com/github/CR-MLE/Machine-Learning/blob/main/week2_Computer_vision.ipynb\" target=\"_parent\"><img src=\"https://colab.research.google.com/assets/colab-badge.svg\" alt=\"Open In Colab\"/></a>"
      ]
    },
    {
      "cell_type": "code",
      "execution_count": 1,
      "metadata": {
        "colab": {
          "base_uri": "https://localhost:8080/"
        },
        "id": "Qo0V7si38do3",
        "outputId": "eba5648d-5e8d-418a-e1e2-408f891dfa1e"
      },
      "outputs": [
        {
          "output_type": "stream",
          "name": "stdout",
          "text": [
            "2.9.2\n"
          ]
        }
      ],
      "source": [
        "import tensorflow as tf\n",
        "print(tf.__version__)"
      ]
    },
    {
      "cell_type": "code",
      "source": [
        "#load Fashion MNIST data\n",
        "fmist = tf.keras.datasets.fashion_mnist\n",
        "\n",
        "# these are 28x28 pixels clathing images and already available in the keras library"
      ],
      "metadata": {
        "id": "5E_oKOjF8mDa"
      },
      "execution_count": 2,
      "outputs": []
    },
    {
      "cell_type": "code",
      "source": [
        "(training_images,training_labels), (test_images,test_labels) = fmist.load_data()"
      ],
      "metadata": {
        "colab": {
          "base_uri": "https://localhost:8080/"
        },
        "id": "R43kvxv3ED7i",
        "outputId": "fbb8db37-d5e3-4fb6-eb3d-65cb55462b9e"
      },
      "execution_count": 3,
      "outputs": [
        {
          "output_type": "stream",
          "name": "stdout",
          "text": [
            "Downloading data from https://storage.googleapis.com/tensorflow/tf-keras-datasets/train-labels-idx1-ubyte.gz\n",
            "29515/29515 [==============================] - 0s 0us/step\n",
            "Downloading data from https://storage.googleapis.com/tensorflow/tf-keras-datasets/train-images-idx3-ubyte.gz\n",
            "26421880/26421880 [==============================] - 0s 0us/step\n",
            "Downloading data from https://storage.googleapis.com/tensorflow/tf-keras-datasets/t10k-labels-idx1-ubyte.gz\n",
            "5148/5148 [==============================] - 0s 0us/step\n",
            "Downloading data from https://storage.googleapis.com/tensorflow/tf-keras-datasets/t10k-images-idx3-ubyte.gz\n",
            "4422102/4422102 [==============================] - 0s 0us/step\n"
          ]
        }
      ]
    },
    {
      "cell_type": "code",
      "source": [
        "import numpy as np\n",
        "import matplotlib.pyplot as plt\n",
        "# there are 60K pics starting from 0\n",
        "index = 24\n",
        "#set number of rows when printing\n",
        "np.set_printoptions(linewidth=320)\n",
        "#print the label and image\n",
        "\n",
        "print(f'Label: {training_labels[index]}')\n",
        "print(f'\\n image pixel array: \\n {training_images[index]}')\n",
        "\n",
        "#print the image\n",
        "plt.imshow(training_images[index])"
      ],
      "metadata": {
        "colab": {
          "base_uri": "https://localhost:8080/",
          "height": 820
        },
        "id": "E-26yDgBF_E_",
        "outputId": "f6f28309-19b8-4605-d918-53158b99b6bb"
      },
      "execution_count": 4,
      "outputs": [
        {
          "output_type": "stream",
          "name": "stdout",
          "text": [
            "Label: 4\n",
            "\n",
            " image pixel array: \n",
            " [[  0   0   0   0   0   0   0   0   0   0  90 156 177 182 196 176 117   0   0   0   0   0   0   0   0   0   0   0]\n",
            " [  0   0   0   0   0   0   2   0   0 239 253 239 214 226 214 231 245 248   0   0   1   0   0   0   0   0   0   0]\n",
            " [  0   0   0   0   0   0   0   0  36 241 203 219 192 190 193 207 200 232 135   0   0   2   0   0   0   0   0   0]\n",
            " [  0   0   0   0   1   0   0  33 167 227 229 234 228 234 244 215 211 214 208 120   0   0   2   0   0   0   0   0]\n",
            " [  0   0   0   0   0   0 157 227 207 207 229 229 232 207 241 227 235 224 203 221 176   0   0   2   0   0   0   0]\n",
            " [  0   0   0   0   0  65 218 189 192 187 196 189 188 202 181 195 222 219 190 180 217 125   0   0   0   0   0   0]\n",
            " [  0   0   0   0   0 158 213 196 196 191 188 186 179 192 177 192 126 155 193 189 200 166   0   0   0   0   0   0]\n",
            " [  0   0   0   0   0 163 217 211 176 188 188 186 183 196 180 191 165 170 216 204 200 195   0   0   0   0   0   0]\n",
            " [  0   0   0   0   0 183 215 234 185 182 186 183 184 198 181 185 195 188 203 245 207 209  37   0   0   0   0   0]\n",
            " [  0   0   0   0   0 196 215 240 209 188 183 186 186 190 186 188 188 183 212 253 205 217  64   0   0   0   0   0]\n",
            " [  0   0   0   0   0 235 213 246 209 190 190 195 194 192 192 192 196 189 209 252 206 217 109   0   0   0   0   0]\n",
            " [  0   0   0   0  18 246 209 253 212 201 209 195 202 204 203 206 207 201 214 251 205 216 160   0   0   0   0   0]\n",
            " [  0   0   0   0  48 249 208 253 217 196 197 191 195 193 194 196 196 194 214 247 206 216 189   0   0   0   0   0]\n",
            " [  0   0   0   0  71 244 206 255 216 195 196 194 197 196 196 195 203 197 197 238 216 215 184   0   0   0   0   0]\n",
            " [  0   0   0   0  91 248 206 255 211 194 197 193 196 195 195 195 199 201 191 247 217 214 198   0   0   0   0   0]\n",
            " [  0   0   0   0 109 224 206 237 187 195 198 193 197 195 194 194 197 203 197 193 211 217 215   0   0   0   0   0]\n",
            " [  0   0   0   0 118 230 205 222 166 204 195 195 198 196 193 192 196 200 206 161 207 219 220   0   0   0   0   0]\n",
            " [  0   0   0   0 110 234 210 183 147 217 189 193 197 197 194 191 194 198 212 136 213 221 220   5   0   0   0   0]\n",
            " [  0   0   0   0 109 239 209 167 146 219 186 192 196 198 194 191 192 195 223 117 206 227 219  31   0   0   0   0]\n",
            " [  0   0   0   0 105 241 212 142 146 218 182 191 193 196 196 192 190 190 232 100 166 238 218  48   0   0   0   0]\n",
            " [  0   0   0   0  99 240 219 115 152 212 180 190 191 192 198 195 187 185 235  99 133 244 216  63   0   0   0   0]\n",
            " [  0   0   0   0  95 238 225  86 163 203 181 188 190 191 195 195 189 181 226 112 133 245 216  83   0   0   0   0]\n",
            " [  0   0   0   0 102 238 228  79 165 198 182 186 189 192 192 191 191 182 217 113 131 250 209  95   0   0   0   0]\n",
            " [  0   0   0   0 113 234 239 103 155 199 182 187 191 192 191 190 191 183 212 130 128 243 203 103   0   0   0   0]\n",
            " [  0   0   0   0 114 220 251 106 144 187 180 184 187 188 187 186 185 183 190 144 103 236 202 110   0   0   0   0]\n",
            " [  0   0   0   0 114 208 252  71 176 202 195 198 202 202 201 201 201 197 202 178  81 233 205 116   0   0   0   0]\n",
            " [  0   0   0   0 109 238 255  38 105 166 156 159 161 162 159 156 156 155 170 112  44 241 224 136   0   0   0   0]\n",
            " [  0   0   0   0  33 177 179  16   0   0   0   0   0   0   0   0   0   0   0   0   0 163 165  53   0   0   0   0]]\n"
          ]
        },
        {
          "output_type": "execute_result",
          "data": {
            "text/plain": [
              "<matplotlib.image.AxesImage at 0x7fcde37fc310>"
            ]
          },
          "metadata": {},
          "execution_count": 4
        },
        {
          "output_type": "display_data",
          "data": {
            "text/plain": [
              "<Figure size 432x288 with 1 Axes>"
            ],
            "image/png": "[encoded data removed]"
          },
          "metadata": {
            "needs_background": "light"
          }
        }
      ]
    },
    {
      "cell_type": "code",
      "source": [
        "#for the  model learning , it is advisable to keep values in 0 and 1 , hence dividing by 255\n",
        "\n",
        "training_images = training_images/255.0\n",
        "test_images = test_images/255.00\n",
        "\n",
        "#print(training_images[4])"
      ],
      "metadata": {
        "id": "nAA7QeWUPVAe",
        "colab": {
          "base_uri": "https://localhost:8080/"
        },
        "outputId": "c158b0c8-cf7d-4d25-88ae-0aae430ed28b"
      },
      "execution_count": 6,
      "outputs": [
        {
          "output_type": "stream",
          "name": "stdout",
          "text": [
            "[[0.         0.         0.         0.         0.         0.         0.         0.         0.         0.         0.         0.         0.         0.         0.         0.         0.         0.00039985 0.         0.         0.         0.         0.         0.         0.         0.         0.         0.        ]\n",
            " [0.         0.         0.         0.         0.         0.         0.         0.         0.00290657 0.00316801 0.00287582 0.00049212 0.         0.         0.         0.00039985 0.00333718 0.00347559 0.00301423 0.00016917 0.         0.         0.         0.         0.         0.         0.         0.        ]\n",
            " [0.         0.         0.         0.         0.         0.         0.         0.         0.00295271 0.00349097 0.00359862 0.00373702 0.0035371  0.00226067 0.00367551 0.00372165 0.00359862 0.00335256 0.00321415 0.         0.         0.         0.         0.         0.         0.         0.         0.        ]\n",
            " [0.         0.         0.         0.         0.         0.         0.         0.         0.00266052 0.00346021 0.00330642 0.00358324 0.00390619 0.         0.00298347 0.00369089 0.00333718 0.00339869 0.00292195 0.         0.         0.         0.         0.         0.         0.         0.         0.        ]\n",
            " [0.         0.         0.         0.         0.         0.         0.         0.         0.00213764 0.00352172 0.00326028 0.00347559 0.00392157 0.         0.00249135 0.00392157 0.00327566 0.00347559 0.00307574 0.         0.         0.         0.         0.         0.         0.         0.         0.        ]\n",
            " [0.         0.         0.         0.         0.         0.         0.         0.         0.00150711 0.00356786 0.00324491 0.00330642 0.0038293  0.00070742 0.00249135 0.00378316 0.00329104 0.0035371  0.00286044 0.         0.         0.         0.         0.         0.         0.         0.         0.        ]\n",
            " [0.         0.         0.         0.         0.         0.         0.         0.         0.00107651 0.00350634 0.00327566 0.00338331 0.00344483 0.00387543 0.00367551 0.00336794 0.00333718 0.00355248 0.00262976 0.         0.         0.         0.         0.         0.         0.         0.         0.        ]\n",
            " [0.         0.         0.         0.         0.         0.         0.         0.         0.00069204 0.00341407 0.00329104 0.00335256 0.0033218  0.00322953 0.00330642 0.00333718 0.0031065  0.00344483 0.00264514 0.         0.         0.         0.         0.         0.         0.         0.         0.        ]\n",
            " [0.         0.         0.         0.         0.         0.         0.         0.         0.00036909 0.00390619 0.00329104 0.00322953 0.00324491 0.00329104 0.00330642 0.00326028 0.00312188 0.00339869 0.00256824 0.         0.         0.         0.         0.         0.         0.         0.         0.        ]\n",
            " [0.         0.         0.         0.         0.         0.         0.         0.         0.         0.00390619 0.0033218  0.00330642 0.00333718 0.00333718 0.0033218  0.0033218  0.00316801 0.00346021 0.00230681 0.         0.         0.         0.         0.         0.         0.         0.         0.        ]\n",
            " [0.         0.         0.         0.         0.         0.         0.         0.         0.         0.00379854 0.0033218  0.00329104 0.00333718 0.0033218  0.00329104 0.00326028 0.00312188 0.00347559 0.0020915  0.         0.         0.         0.         0.         0.         0.         0.         0.        ]\n",
            " [0.         0.         0.         0.         0.         0.         0.         0.         0.         0.00376778 0.0033218  0.00329104 0.0033218  0.00333718 0.00330642 0.00324491 0.00313725 0.00346021 0.00192234 0.         0.         0.         0.         0.         0.         0.         0.         0.        ]\n",
            " [0.         0.         0.         0.         0.         0.         0.         0.         0.         0.00379854 0.0033218  0.00329104 0.00333718 0.00338331 0.00333718 0.00327566 0.00312188 0.00341407 0.00226067 0.         0.         0.         0.         0.         0.         0.         0.         0.        ]\n",
            " [0.         0.         0.         0.         0.         0.         0.         0.         0.         0.00381392 0.0033218  0.00330642 0.00335256 0.00341407 0.0033218  0.00329104 0.00318339 0.00335256 0.00275279 0.         0.         0.         0.         0.         0.         0.         0.         0.        ]\n",
            " [0.         0.         0.         0.         0.         0.         0.         0.         0.         0.0038293  0.0033218  0.00333718 0.00336794 0.00341407 0.00333718 0.00329104 0.00322953 0.00330642 0.00324491 0.         0.         0.         0.         0.         0.         0.         0.         0.        ]\n",
            " [0.         0.         0.         0.         0.         0.         0.         0.         0.00058439 0.00392157 0.00329104 0.00335256 0.00336794 0.00344483 0.00335256 0.00330642 0.00324491 0.00324491 0.00355248 0.         0.         0.         0.         0.         0.         0.         0.         0.        ]\n",
            " [0.         0.         0.         0.         0.         0.         0.         0.         0.00121492 0.00349097 0.00321415 0.00336794 0.00336794 0.00349097 0.00336794 0.00330642 0.00327566 0.00316801 0.00390619 0.00089196 0.         0.         0.         0.         0.         0.         0.         0.        ]\n",
            " [0.         0.         0.         0.         0.         0.         0.         0.         0.00224529 0.00347559 0.00324491 0.00338331 0.00336794 0.00350634 0.00335256 0.00330642 0.0033218  0.00315263 0.00336794 0.00250673 0.         0.         0.         0.         0.         0.         0.         0.        ]\n",
            " [0.         0.         0.         0.         0.         0.         0.         0.         0.0031065  0.00339869 0.00329104 0.00339869 0.00336794 0.00355248 0.00335256 0.00330642 0.00335256 0.00327566 0.00326028 0.00338331 0.         0.         0.         0.         0.         0.         0.         0.        ]\n",
            " [0.         0.         0.         0.         0.         0.         0.         0.         0.00359862 0.00333718 0.0033218  0.00338331 0.00336794 0.00359862 0.00333718 0.00330642 0.00335256 0.0033218  0.00342945 0.00379854 0.00010765 0.         0.         0.         0.         0.         0.         0.        ]\n",
            " [0.         0.         0.         0.         0.         0.         0.         0.00026144 0.00390619 0.00326028 0.00336794 0.00336794 0.00338331 0.00358324 0.00329104 0.0033218  0.00336794 0.00341407 0.00235294 0.00366013 0.00089196 0.         0.         0.         0.         0.         0.         0.        ]\n",
            " [0.         0.         0.         0.         0.         0.         0.         0.00101499 0.00392157 0.00319877 0.00338331 0.00336794 0.00341407 0.00370627 0.00338331 0.00335256 0.00335256 0.00335256 0.00295271 0.00372165 0.00152249 0.         0.         0.         0.         0.         0.         0.        ]\n",
            " [0.         0.         0.         0.         0.         0.         0.         0.00218378 0.00361399 0.00312188 0.00335256 0.0033218  0.00355248 0.00372165 0.00346021 0.00358324 0.00336794 0.00329104 0.0033218  0.00366013 0.00221453 0.         0.         0.         0.         0.         0.         0.        ]\n",
            " [0.         0.         0.         0.         0.         0.         0.         0.00272203 0.00381392 0.00349097 0.00352172 0.00324491 0.00392157 0.00116878 0.         0.00379854 0.00373702 0.0035371  0.0035371  0.0038293  0.00287582 0.         0.         0.         0.         0.         0.         0.        ]\n",
            " [0.         0.         0.         0.         0.         0.         0.         0.00155325 0.00370627 0.00350634 0.00350634 0.00338331 0.00392157 0.00098424 0.         0.00373702 0.00364475 0.0035371  0.00349097 0.00370627 0.00218378 0.         0.         0.         0.         0.         0.         0.        ]\n",
            " [0.         0.         0.         0.         0.         0.         0.         0.         0.00392157 0.00372165 0.00341407 0.00335256 0.00392157 0.00095348 0.         0.00342945 0.00366013 0.00346021 0.00366013 0.00392157 0.00047674 0.         0.         0.         0.         0.         0.         0.        ]\n",
            " [0.         0.         0.         0.         0.         0.         0.         0.         0.00069204 0.00392157 0.00372165 0.00361399 0.00392157 0.00129181 0.         0.00378316 0.00392157 0.00372165 0.00392157 0.00107651 0.         0.         0.         0.         0.         0.         0.         0.        ]\n",
            " [0.         0.         0.         0.         0.         0.         0.         0.         0.         0.         0.0009381  0.00156863 0.00258362 0.00038447 0.         0.00213764 0.00247597 0.00113802 0.         0.         0.         0.         0.         0.         0.         0.         0.         0.        ]]\n"
          ]
        }
      ]
    },
    {
      "cell_type": "code",
      "source": [
        "#build classification model\n",
        "model=tf.keras.Sequential([tf.keras.layers.Flatten(),\n",
        "                           tf.keras.layers.Dense(128, activation=tf.nn.relu),\n",
        "                           tf.keras.layers.Dense(10, activation =tf.nn.softmax)])\n",
        "#softmax regression is multiclass  classification. "
      ],
      "metadata": {
        "id": "Gw98hU77PsGn"
      },
      "execution_count": 9,
      "outputs": []
    },
    {
      "cell_type": "code",
      "source": [
        "#Declare sample inputs and convert to a tensor\n",
        "\n",
        "inputs = np.array([[1.0,3.0,4.0,2.0]])\n",
        "inputs = tf.convert_to_tensor(inputs)\n",
        "print(f'inputs to softmax function:{inputs.numpy()}')\n",
        "\n",
        "#feed the input tensor to softmax function\n",
        "\n",
        "output = tf.keras.activations.softmax(inputs)\n",
        "print(f'output  by softmax: {output.numpy()}')\n",
        "\n",
        "#get the sum of all values after the softmax\n",
        "\n",
        "sum  = tf.reduce_sum(output)\n",
        "print(f'sum of output: {sum}')\n",
        "\n",
        "#Get the index with highest value\n",
        "prediction = np.argmax(output)\n",
        "\n",
        "print(f'class with higest probability: {prediction}')"
      ],
      "metadata": {
        "id": "sflXqnhCxe8s",
        "colab": {
          "base_uri": "https://localhost:8080/"
        },
        "outputId": "148f7ea3-4a36-46f4-a9d7-8980792103ff"
      },
      "execution_count": 14,
      "outputs": [
        {
          "output_type": "stream",
          "name": "stdout",
          "text": [
            "inputs to softmax function:[[1. 3. 4. 2.]]\n",
            "output  by softmax: [[0.0320586  0.23688282 0.64391426 0.08714432]]\n",
            "sum of output: 1.0\n",
            "class with higest probability: 2\n"
          ]
        }
      ]
    },
    {
      "cell_type": "code",
      "source": [
        "model.compile(optimizer = tf.optimizers.Adam(),\n",
        "              loss = 'sparse_categorical_crossentropy',\n",
        "              metrics=['accuracy'])\n",
        "model.fit(training_images, training_labels, epochs = 10)"
      ],
      "metadata": {
        "colab": {
          "base_uri": "https://localhost:8080/"
        },
        "id": "v17GQeZACgyO",
        "outputId": "cf38575a-ab64-480d-f6bc-1dc33eb6d528"
      },
      "execution_count": 37,
      "outputs": [
        {
          "output_type": "stream",
          "name": "stdout",
          "text": [
            "Epoch 1/10\n",
            "1875/1875 [==============================] - 7s 4ms/step - loss: 0.4827 - accuracy: 0.8298\n",
            "Epoch 2/10\n",
            "1875/1875 [==============================] - 6s 3ms/step - loss: 0.4672 - accuracy: 0.8349\n",
            "Epoch 3/10\n",
            "1875/1875 [==============================] - 7s 4ms/step - loss: 0.4554 - accuracy: 0.8402\n",
            "Epoch 4/10\n",
            "1875/1875 [==============================] - 6s 3ms/step - loss: 0.4453 - accuracy: 0.8430\n",
            "Epoch 5/10\n",
            "1875/1875 [==============================] - 7s 4ms/step - loss: 0.4367 - accuracy: 0.8471\n",
            "Epoch 6/10\n",
            "1875/1875 [==============================] - 6s 3ms/step - loss: 0.4297 - accuracy: 0.8486\n",
            "Epoch 7/10\n",
            "1875/1875 [==============================] - 6s 3ms/step - loss: 0.4230 - accuracy: 0.8511\n",
            "Epoch 8/10\n",
            "1875/1875 [==============================] - 7s 4ms/step - loss: 0.4177 - accuracy: 0.8530\n",
            "Epoch 9/10\n",
            "1875/1875 [==============================] - 6s 3ms/step - loss: 0.4124 - accuracy: 0.8552\n",
            "Epoch 10/10\n",
            "1875/1875 [==============================] - 6s 3ms/step - loss: 0.4075 - accuracy: 0.8571\n"
          ]
        },
        {
          "output_type": "execute_result",
          "data": {
            "text/plain": [
              "<keras.callbacks.History at 0x7fcddc44f790>"
            ]
          },
          "metadata": {},
          "execution_count": 37
        }
      ]
    },
    {
      "cell_type": "code",
      "source": [
        "model.evaluate(test_images, test_labels)\n",
        "#evaluate function gives error and accuracy"
      ],
      "metadata": {
        "colab": {
          "base_uri": "https://localhost:8080/"
        },
        "id": "6Fi2YhArDA06",
        "outputId": "f68a7b3d-4443-4723-d7d2-79f9fd6aa855"
      },
      "execution_count": 38,
      "outputs": [
        {
          "output_type": "stream",
          "name": "stdout",
          "text": [
            "313/313 [==============================] - 1s 2ms/step - loss: 0.4426 - accuracy: 0.8394\n"
          ]
        },
        {
          "output_type": "execute_result",
          "data": {
            "text/plain": [
              "[0.44259077310562134, 0.8393999934196472]"
            ]
          },
          "metadata": {},
          "execution_count": 38
        }
      ]
    },
    {
      "cell_type": "code",
      "source": [
        "#excericse 1\n",
        "classifications = model.predict(test_images)\n",
        "#output1 = classifications[0].numpy()\n",
        "\n"
      ],
      "metadata": {
        "colab": {
          "base_uri": "https://localhost:8080/"
        },
        "id": "1Ag8JA_jEzxr",
        "outputId": "a377bc93-5fab-4097-efd9-79119859c85d"
      },
      "execution_count": 39,
      "outputs": [
        {
          "output_type": "stream",
          "name": "stdout",
          "text": [
            "313/313 [==============================] - 1s 2ms/step\n"
          ]
        }
      ]
    },
    {
      "cell_type": "code",
      "source": [
        "print(f'predicted value of first image: {np.argmax(classifications[0])}')\n",
        "print(f'actual image: {test_labels[0]}')\n",
        "#when I increased the number of epocs to 10 , the actual and predicted image was same."
      ],
      "metadata": {
        "colab": {
          "base_uri": "https://localhost:8080/"
        },
        "id": "LWAfQaeqFN4_",
        "outputId": "837f0ba7-fb77-4e5b-b9ce-4e7d01ad9ac9"
      },
      "execution_count": 40,
      "outputs": [
        {
          "output_type": "stream",
          "name": "stdout",
          "text": [
            "predicted value of first image: 9\n",
            "actual image: 9\n"
          ]
        }
      ]
    },
    {
      "cell_type": "code",
      "source": [
        "class myCallback(tf.keras.callbacks.Callback):\n",
        "  def on_epoch_end(self,epoch,logs={}):\n",
        "    #halt the training when it reaches the accuracy\n",
        "\n",
        "    if (logs.get('loss')<0.4):\n",
        "      print(\"\\n stop training as loss is reduced below 0.4\")\n",
        "      self.model.stop_training  = True\n",
        "callbacks  = myCallback()\n"
      ],
      "metadata": {
        "id": "lil-iZsqQ35l"
      },
      "execution_count": 46,
      "outputs": []
    },
    {
      "cell_type": "code",
      "source": [
        "fminst =tf.keras.datasets.fashion_mnist\n",
        "\n",
        "(training_images,training_labels),(test_images,test_labels) = fminst.load_data()\n",
        "training_images = training_images/255.0\n",
        "test_images = test_images/255.0\n",
        "\n",
        "model = tf.keras.models.Sequential([tf.keras.layers.Flatten(),\n",
        "                                    tf.keras.layers.Dense(512,activation=tf.nn.relu),\n",
        "                                    tf.keras.layers.Dense(10,activation=tf.nn.softmax)])\n",
        "model.compile(optimizer = 'adam', loss = 'sparse_categorical_crossentropy')\n",
        "model.fit(training_images, training_labels, epochs=5,callbacks = [callbacks])\n",
        "model.evaluate(test_images, test_labels)\n",
        "classifications = model.predict(test_images)\n",
        "\n",
        "print(f'predicted value of first image: {np.argmax(classifications[0])}')\n",
        "print(f'actual image: {test_labels[0]}')"
      ],
      "metadata": {
        "colab": {
          "base_uri": "https://localhost:8080/"
        },
        "id": "QGGsxa0MLr8b",
        "outputId": "1455b4a9-5ad9-4ef0-c036-946913db5221"
      },
      "execution_count": 48,
      "outputs": [
        {
          "output_type": "stream",
          "name": "stdout",
          "text": [
            "Epoch 1/5\n",
            "1875/1875 [==============================] - 12s 6ms/step - loss: 0.4763\n",
            "Epoch 2/5\n",
            "1868/1875 [============================>.] - ETA: 0s - loss: 0.3592\n",
            " stop training as loss is reduced below 0.4\n",
            "1875/1875 [==============================] - 10s 5ms/step - loss: 0.3591\n",
            "313/313 [==============================] - 1s 3ms/step - loss: 0.3931\n",
            "313/313 [==============================] - 1s 3ms/step\n",
            "predicted value of first image: 9\n",
            "actual image: 9\n"
          ]
        }
      ]
    }
  ]
}